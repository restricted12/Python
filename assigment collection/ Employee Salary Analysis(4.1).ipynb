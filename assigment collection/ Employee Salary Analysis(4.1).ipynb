{
 "cells": [
  {
   "cell_type": "code",
   "execution_count": 1,
   "id": "7aaaf1d1-9697-493a-8fdc-31c06294d81d",
   "metadata": {},
   "outputs": [],
   "source": [
    " # Task 4.1: Employee Salary Analysis (5 marks)\n",
    " # Youhavebeengiven a dataset containing information on employee salaries. Using Pandas,\n",
    " # complete the following:\n",
    " # a) Load the dataset into a DataFrame.\n",
    " # b) Clean the data by removing any rows with missing values.\n",
    " # c) Groupthe data by department and calculate the average salary for each department.\n",
    " # d) Save the cleaned and grouped data to a new CSV file"
   ]
  },
  {
   "cell_type": "code",
   "execution_count": 1,
   "id": "309ca552-530d-4640-b9e8-810d4b2ec3dc",
   "metadata": {},
   "outputs": [
    {
     "name": "stdout",
     "output_type": "stream",
     "text": [
      "       NAME POSITION       DEPARTMENT  SALARY\n",
      "0      John       SE               IT   85000\n",
      "1    Robert       DE               IT   92000\n",
      "2     David       FD               IT   82000\n",
      "3     Jason     ITSL               IT   65000\n",
      "4     Kevin       QA               IT   76000\n",
      "5      Jane       DA        Analytics   78000\n",
      "6                 DS        Analytics   95000\n",
      "7     Emily                             88000\n",
      "8    Olivia       CS        Marketing   70000\n",
      "9     Sarah       DM        Marketing   72000\n",
      "10   Daniel                   Product  110000\n",
      "11    Susan       PM          Product   95000\n",
      "12  Jessica       BA         Business   84000\n",
      "13  Michael      HRM  Human Resources   95000\n",
      "14    Megan      HRS  Human Resources   78000\n",
      "15    Chris      UXD           Design   80000\n",
      "16     Mark       GD           Design   74000\n",
      "17   Amanda       FM          Finance  105000\n",
      "18  Richard      CFO          Finance  150000\n",
      "19    Karen       FA          Finance   95000\n"
     ]
    }
   ],
   "source": [
    "# Loading the dataset into a DataFrame by dictionery.\n",
    "import pandas as pd\n",
    "\n",
    "data = {\n",
    "    \"name\".upper(): [\n",
    "        \"John\", \"Robert\", \"David\", \"Jason\", \"Kevin\", \n",
    "        \"Jane\", \"\", \"Emily\", \"Olivia\", \"Sarah\", \n",
    "        \"Daniel\", \"Susan\", \"Jessica\", \"Michael\", \"Megan\", \n",
    "        \"Chris\", \"Mark\", \"Amanda\", \"Richard\", \"Karen\"\n",
    "    ],\n",
    "    \"Position\".upper(): [\n",
    "        \"SE\", \"DE\", \"FD\", \"ITSL\", \"QA\",       \n",
    "        \"DA\", \"DS\", \"\", \"CS\", \"DM\",       \n",
    "        \"\", \"PM\", \"BA\", \"HRM\", \"HRS\",      \n",
    "        \"UXD\", \"GD\", \"FM\", \"CFO\", \"FA\"\n",
    "    ],\n",
    "    \"Department\".upper(): [\n",
    "        \"IT\", \"IT\", \"IT\", \"IT\", \"IT\",        \n",
    "        \"Analytics\", \"Analytics\", \"\", \"Marketing\", \"Marketing\", \n",
    "        \"Product\", \"Product\", \"Business\", \"Human Resources\", \"Human Resources\", \n",
    "        \"Design\", \"Design\", \"Finance\", \"Finance\", \"Finance\"\n",
    "    ],\n",
    "    \"salary\".upper(): [\n",
    "        85000, 92000, 82000, 65000, 76000,     \n",
    "        78000, 95000, 88000, 70000, 72000,     \n",
    "        110000, 95000, 84000, 95000, 78000,     \n",
    "        80000, 74000, 105000, 150000, 95000\n",
    "    ]\n",
    "}\n",
    "# displaying by DataFrame \n",
    "x = pd.DataFrame(data)\n",
    "print(x)"
   ]
  },
  {
   "cell_type": "code",
   "execution_count": 2,
   "id": "f94d2fca-ad3d-4f5b-8d73-b421e8c4a0a9",
   "metadata": {},
   "outputs": [
    {
     "name": "stdout",
     "output_type": "stream",
     "text": [
      "access\n"
     ]
    }
   ],
   "source": [
    "# converting it in to csv file \n",
    "x.to_csv(\"C:/Users/ezepayooner/OneDrive/salary's.csv\", index=False)\n",
    "# testing if it work\n",
    "print(\"access\")"
   ]
  },
  {
   "cell_type": "code",
   "execution_count": 3,
   "id": "c312ce7d-3bed-4412-8224-e06d5de95d21",
   "metadata": {},
   "outputs": [
    {
     "name": "stdout",
     "output_type": "stream",
     "text": [
      "       NAME POSITION       DEPARTMENT  SALARY\n",
      "0      John       SE               IT   85000\n",
      "1    Robert       DE               IT   92000\n",
      "2     David       FD               IT   82000\n",
      "3     Jason     ITSL               IT   65000\n",
      "4     Kevin       QA               IT   76000\n",
      "5      Jane       DA        Analytics   78000\n",
      "6       NaN       DS        Analytics   95000\n",
      "7     Emily      NaN              NaN   88000\n",
      "8    Olivia       CS        Marketing   70000\n",
      "9     Sarah       DM        Marketing   72000\n",
      "10   Daniel      NaN          Product  110000\n",
      "11    Susan       PM          Product   95000\n",
      "12  Jessica       BA         Business   84000\n",
      "13  Michael      HRM  Human Resources   95000\n",
      "14    Megan      HRS  Human Resources   78000\n",
      "15    Chris      UXD           Design   80000\n",
      "16     Mark       GD           Design   74000\n",
      "17   Amanda       FM          Finance  105000\n",
      "18  Richard      CFO          Finance  150000\n",
      "19    Karen       FA          Finance   95000\n"
     ]
    }
   ],
   "source": [
    "# displaying the converted file \n",
    "x_read = pd.read_csv(\"C:/Users/ezepayooner/OneDrive/salary's.csv\")\n",
    "print(x_read)"
   ]
  },
  {
   "cell_type": "code",
   "execution_count": 4,
   "id": "6ea74a2d-52b5-4f39-ac99-ca222c1fe4f4",
   "metadata": {},
   "outputs": [
    {
     "name": "stdout",
     "output_type": "stream",
     "text": [
      "       NAME POSITION       DEPARTMENT  SALARY\n",
      "0      John       SE               IT   85000\n",
      "1    Robert       DE               IT   92000\n",
      "2     David       FD               IT   82000\n",
      "3     Jason     ITSL               IT   65000\n",
      "4     Kevin       QA               IT   76000\n",
      "5      Jane       DA        Analytics   78000\n",
      "8    Olivia       CS        Marketing   70000\n",
      "9     Sarah       DM        Marketing   72000\n",
      "11    Susan       PM          Product   95000\n",
      "12  Jessica       BA         Business   84000\n",
      "13  Michael      HRM  Human Resources   95000\n",
      "14    Megan      HRS  Human Resources   78000\n",
      "15    Chris      UXD           Design   80000\n",
      "16     Mark       GD           Design   74000\n",
      "17   Amanda       FM          Finance  105000\n",
      "18  Richard      CFO          Finance  150000\n",
      "19    Karen       FA          Finance   95000\n"
     ]
    }
   ],
   "source": [
    "# Clean the data by removing any rows with missing values by using dropna method.\n",
    "clean=x_read.dropna()\n",
    "# save the cleaned data in to new csv file.\n",
    "clean.to_csv(\"C:/Users/ezepayooner/OneDrive/salary's_cleaned_up.csv\", index=False)\n",
    "# displaying the cleand data \n",
    "clean_read = pd.read_csv(\"C:/Users/ezepayooner/OneDrive/salary's_cleaned_up.csv\")\n",
    "print(clean)"
   ]
  },
  {
   "cell_type": "code",
   "execution_count": 6,
   "id": "b7b59046-85d9-4e66-b3d5-af3fcdc677d0",
   "metadata": {},
   "outputs": [
    {
     "name": "stdout",
     "output_type": "stream",
     "text": [
      "        DEPARTMENT         SALARY\n",
      "0        Analytics   78000.000000\n",
      "1         Business   84000.000000\n",
      "2           Design   77000.000000\n",
      "3          Finance  116666.666667\n",
      "4  Human Resources   86500.000000\n",
      "5               IT   80000.000000\n",
      "6        Marketing   71000.000000\n",
      "7          Product   95000.000000\n"
     ]
    }
   ],
   "source": [
    "import pandas as pd\n",
    "\n",
    "# Create DataFrame\n",
    "average_salary_df = pd.DataFrame(clean)\n",
    "# Group by 'DEPARTMENT' and calculate the average salary\n",
    "average_salary_by_department = average_salary_df.groupby('DEPARTMENT')['SALARY'].mean().reset_index()\n",
    "# Save the result to a CSV file\n",
    "average_salary_by_department.to_csv(\"C:/Users/ezepayooner/OneDrive/average_salary_cleaned_up.csv\", index=False)\n",
    "# Read the CSV file\n",
    "average = pd.read_csv(\"C:/Users/ezepayooner/OneDrive/average_salary_cleaned_up.csv\")\n",
    "# Print the result\n",
    "print(average)\n"
   ]
  },
  {
   "cell_type": "code",
   "execution_count": null,
   "id": "4fb146b7-7a05-4921-8ede-41601bb35772",
   "metadata": {},
   "outputs": [],
   "source": []
  }
 ],
 "metadata": {
  "kernelspec": {
   "display_name": "Python 3 (ipykernel)",
   "language": "python",
   "name": "python3"
  },
  "language_info": {
   "codemirror_mode": {
    "name": "ipython",
    "version": 3
   },
   "file_extension": ".py",
   "mimetype": "text/x-python",
   "name": "python",
   "nbconvert_exporter": "python",
   "pygments_lexer": "ipython3",
   "version": "3.12.4"
  }
 },
 "nbformat": 4,
 "nbformat_minor": 5
}
