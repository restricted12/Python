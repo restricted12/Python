{
 "cells": [
  {
   "cell_type": "code",
   "execution_count": null,
   "id": "fc0ae40d-ae6d-453a-b37f-b422ed98e1da",
   "metadata": {},
   "outputs": [],
   "source": [
    " # Write a Python program that:\n",
    " # a) Reads a text file containing a list of words (one word per line).\n",
    " # b) Counts the frequency of each word.\n",
    " # c) Writes the word frequencies to a new CSV file with two columns: “Word” and\n",
    " # “Frequency."
   ]
  },
  {
   "cell_type": "code",
   "execution_count": 1,
   "id": "b29c3a72-a5f4-4f6b-858d-9896e2a18676",
   "metadata": {},
   "outputs": [
    {
     "name": "stdout",
     "output_type": "stream",
     "text": [
      "File created and words written successfully.\n"
     ]
    }
   ],
   "source": [
    "# Define the file path and name\n",
    "file_path = \"C:/Users/ezepayooner/OneDrive/Documents/fruits_frequency.txt\"\n",
    "\n",
    "# Open the file in write mode ('w')\n",
    "file = open(\"C:/Users/ezepayooner/OneDrive/Documents/fruits_frequency\", 'w')\n",
    "\n",
    "# Write content to the file\n",
    "file.write(\"apple\\n\")\n",
    "file.write(\"banana\\n\")\n",
    "file.write(\"orange\\n\")\n",
    "file.write(\"grape\\n\")\n",
    "file.write(\"apple\\n\")\n",
    "file.write(\"mango\\n\")\n",
    "file.write(\"banana\\n\")\n",
    "file.write(\"pineapple\\n\")\n",
    "file.write(\"kiwi\\n\")\n",
    "file.write(\"orange\\n\")\n",
    "file.write(\"apple\\n\")\n",
    "file.write(\"grape\\n\")\n",
    "file.write(\"mango\\n\")\n",
    "file.write(\"kiwi\\n\")\n",
    "file.write(\"banana\\n\")\n",
    "file.write(\"pineapple\\n\")\n",
    "file.write(\"apple\\n\")\n",
    "file.write(\"kiwi\\n\")\n",
    "file.write(\"grape\\n\")\n",
    "file.write(\"orange\\n\")\n",
    "file.write(\"apple\\n\")\n",
    "\n",
    "# Close the file manually\\\n",
    "# if i were used the method (with open ............as a file)  it closes the file automatically.\n",
    "file.close()\n",
    "\n",
    "print(\"File created and words written successfully.\")\n"
   ]
  },
  {
   "cell_type": "code",
   "execution_count": 2,
   "id": "0bcf3f8b-e504-4ea2-8179-6f0e9ad27165",
   "metadata": {},
   "outputs": [
    {
     "name": "stdout",
     "output_type": "stream",
     "text": [
      "apple\n",
      "banana\n",
      "orange\n",
      "grape\n",
      "apple\n",
      "mango\n",
      "banana\n",
      "pineapple\n",
      "kiwi\n",
      "orange\n",
      "apple\n",
      "grape\n",
      "mango\n",
      "kiwi\n",
      "banana\n",
      "pineapple\n",
      "apple\n",
      "kiwi\n",
      "grape\n",
      "orange\n",
      "apple\n",
      "\n"
     ]
    }
   ],
   "source": [
    "# reading the file that created\n",
    "file_path = open(\"C:/Users/ezepayooner/OneDrive/Documents/fruits_frequency\",\"r\")\n",
    "print(file_path.read())"
   ]
  },
  {
   "cell_type": "code",
   "execution_count": 3,
   "id": "fce5a4c9-d053-4d6f-8709-7646764b7039",
   "metadata": {},
   "outputs": [
    {
     "name": "stdout",
     "output_type": "stream",
     "text": [
      "{'apple': 5, 'banana': 3, 'orange': 3, 'grape': 3, 'mango': 2, 'pineapple': 2, 'kiwi': 3}\n"
     ]
    }
   ],
   "source": [
    "# Create an empty dictionary to store word counts\n",
    "word_count = {}\n",
    "\n",
    "# Define the file path as a string\n",
    "file_path = \"C:/Users/ezepayooner/OneDrive/Documents/fruits_frequency\"\n",
    "\n",
    "# Open the file\n",
    "file = open(file_path, 'r')\n",
    "\n",
    "# Read each line in the file\n",
    "for line in file:\n",
    "    word = line.strip().lower()  # Strip whitespace and convert to lowercase\n",
    "    if word in word_count:\n",
    "        word_count[word] += 1  # Increment count if word exists\n",
    "    else:\n",
    "        word_count[word] = 1  # Add the word to the dictionary with count 1\n",
    "\n",
    "# Close the file\n",
    "file.close()\n",
    "\n",
    "# Print the word frequencies\n",
    "print(word_count)\n"
   ]
  },
  {
   "cell_type": "code",
   "execution_count": 4,
   "id": "a99ecc6c-6c59-4826-a763-a728f602e436",
   "metadata": {},
   "outputs": [
    {
     "name": "stdout",
     "output_type": "stream",
     "text": [
      "     WORDS    FREQUENCY\n",
      "0      apple          5\n",
      "1     banana          3\n",
      "2     orange          3\n",
      "3      grape          3\n",
      "4      mango          2\n",
      "5  pineapple          2\n",
      "6       kiwi          3\n"
     ]
    }
   ],
   "source": [
    "# first to conver the text file to csv file with key and value ,\n",
    "# we should convert text file to dictionery , then we can convert the dict. to csv file by the function of (to-csv) .\n",
    "import pandas as pd\n",
    "fruits={\n",
    "    \"    words  \".upper():['apple', 'banana', 'orange', 'grape', 'mango', 'pineapple', 'kiwi'],\n",
    "    \"   Frequency\".upper():[5,3,3,3,2,2,3]\n",
    "}\n",
    "x=pd.DataFrame(fruits)\n",
    "print(x)"
   ]
  },
  {
   "cell_type": "code",
   "execution_count": 5,
   "id": "b2982300-30e8-452d-b4e3-23669ae2f649",
   "metadata": {},
   "outputs": [
    {
     "name": "stdout",
     "output_type": "stream",
     "text": [
      "     WORDS    FREQUENCY\n",
      "0      apple          5\n",
      "1     banana          3\n",
      "2     orange          3\n",
      "3      grape          3\n",
      "4      mango          2\n",
      "5  pineapple          2\n",
      "6       kiwi          3\n"
     ]
    }
   ],
   "source": [
    "# convert the dictionary to CSV file\n",
    "x.to_csv(\"C:/Users/ezepayooner/OneDrive/fruits_frequency.csv\",index=False)\n",
    "# (index=false) i use this because i want to hide the index when i convert the dict to csv .\n",
    "xr=pd.read_csv(\"C:/Users/ezepayooner/OneDrive/fruits_frequency.csv\")\n",
    "# print the CSV file\n",
    "print(xr)"
   ]
  }
 ],
 "metadata": {
  "kernelspec": {
   "display_name": "Python 3 (ipykernel)",
   "language": "python",
   "name": "python3"
  },
  "language_info": {
   "codemirror_mode": {
    "name": "ipython",
    "version": 3
   },
   "file_extension": ".py",
   "mimetype": "text/x-python",
   "name": "python",
   "nbconvert_exporter": "python",
   "pygments_lexer": "ipython3",
   "version": "3.12.4"
  }
 },
 "nbformat": 4,
 "nbformat_minor": 5
}
