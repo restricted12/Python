{
 "cells": [
  {
   "cell_type": "code",
   "execution_count": 1,
   "id": "649de3a3-b6a8-4dc3-939c-1962ba6389a8",
   "metadata": {},
   "outputs": [],
   "source": [
    " # Task 3.2: Sales Data Analysis\n",
    " # Using Pandas, write a Python program to:\n",
    " # a) Read a CSV file containing sales data (columns: “Product”, “Quantity Sold”,\n",
    " # “Price”).\n",
    " # b) Calculate the total sales (Quantity Sold × Price) for each product.\n",
    " # c) Save the results to a new CSV file."
   ]
  },
  {
   "cell_type": "code",
   "execution_count": 1,
   "id": "142ad4e5-93e7-416f-a872-025c578d173d",
   "metadata": {},
   "outputs": [
    {
     "name": "stdout",
     "output_type": "stream",
     "text": [
      "      PRODUCT  quantity_sold  price\n",
      "0     Laptop              15    100\n",
      "1  Smartphone             30    540\n",
      "2      Tablet             50    250\n",
      "3  Headphones             80    365\n",
      "4  Smartwatch             90    210\n"
     ]
    }
   ],
   "source": [
    "import pandas as pd\n",
    "# creating a dictionery after importing pands \n",
    "data={\n",
    "    \"PRODUCT\": [\"Laptop \",\"Smartphone\",\"Tablet\",\"Headphones\",\"Smartwatch\"],\n",
    "    \"quantity_sold\":[15,30,50,80,90],\n",
    "    \"price\":[100,540,250,365,210]\n",
    "}\n",
    "# displaying it in the form dataframe\n",
    "ex=pd.DataFrame (data)\n",
    "# printing\n",
    "print(ex)"
   ]
  },
  {
   "cell_type": "code",
   "execution_count": 2,
   "id": "43b4e296-9691-4720-b2ca-7f65acbde5d1",
   "metadata": {},
   "outputs": [
    {
     "name": "stdout",
     "output_type": "stream",
     "text": [
      "      PRODUCT  quantity_sold  price\n",
      "0     Laptop              15    100\n",
      "1  Smartphone             30    540\n",
      "2      Tablet             50    250\n",
      "3  Headphones             80    365\n",
      "4  Smartwatch             90    210\n"
     ]
    }
   ],
   "source": [
    "# converting the dict. to the CSV file\n",
    "ex.to_csv(\"C:/Users/ezepayooner/OneDrive/ezedin.csv\", index=False)\n",
    "# after converting to csv we can display like this\n",
    "ex_read = pd.read_csv(\"C:/Users/ezepayooner/OneDrive/ezedin.csv\")\n",
    "print(ex_read)"
   ]
  },
  {
   "cell_type": "code",
   "execution_count": 3,
   "id": "00bb512a-0ae4-423a-a77a-980a5dcae524",
   "metadata": {},
   "outputs": [
    {
     "name": "stdout",
     "output_type": "stream",
     "text": [
      "      PRODUCT  quantity_sold  price  total sales\n",
      "0     Laptop              15    100         1500\n",
      "1  Smartphone             30    540        16200\n",
      "2      Tablet             50    250        12500\n",
      "3  Headphones             80    365        29200\n",
      "4  Smartwatch             90    210        18900\n"
     ]
    }
   ],
   "source": [
    "# Calculate the total sales (Quantity Sold × Price) for each product\n",
    "# with the new coloumn\n",
    "ex[\"total sales\"]=ex[\"quantity_sold\"]*ex[\"price\"]\n",
    "print(ex)"
   ]
  },
  {
   "cell_type": "code",
   "execution_count": 4,
   "id": "2e69534d-b53b-424a-b70c-1012400a7da2",
   "metadata": {},
   "outputs": [
    {
     "name": "stdout",
     "output_type": "stream",
     "text": [
      "      PRODUCT  quantity_sold  price  total sales\n",
      "0     Laptop              15    100         1500\n",
      "1  Smartphone             30    540        16200\n",
      "2      Tablet             50    250        12500\n",
      "3  Headphones             80    365        29200\n",
      "4  Smartwatch             90    210        18900\n"
     ]
    }
   ],
   "source": [
    "#  Save the results to a new CSV file on that said to be  ezedin_append.csv\n",
    "ex.to_csv(\"C:/Users/ezepayooner/OneDrive/ezedin_append.csv\", index=False)\n",
    "# reading the new csv file\n",
    "ex_read = pd.read_csv(\"C:/Users/ezepayooner/OneDrive/ezedin_append.csv\")\n",
    "print(ex_read)"
   ]
  },
  {
   "cell_type": "code",
   "execution_count": null,
   "id": "0e7e8821-0193-4872-b7c1-7417723410e1",
   "metadata": {},
   "outputs": [],
   "source": []
  }
 ],
 "metadata": {
  "kernelspec": {
   "display_name": "Python 3 (ipykernel)",
   "language": "python",
   "name": "python3"
  },
  "language_info": {
   "codemirror_mode": {
    "name": "ipython",
    "version": 3
   },
   "file_extension": ".py",
   "mimetype": "text/x-python",
   "name": "python",
   "nbconvert_exporter": "python",
   "pygments_lexer": "ipython3",
   "version": "3.12.4"
  }
 },
 "nbformat": 4,
 "nbformat_minor": 5
}
