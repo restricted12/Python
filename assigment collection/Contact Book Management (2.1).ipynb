{
 "cells": [
  {
   "cell_type": "code",
   "execution_count": 1,
   "id": "6d84c9de-10a8-459d-b771-7c6cea376cc3",
   "metadata": {},
   "outputs": [],
   "source": [
    "# Task 2.1: Contact Book Management (2.5 marks)\n",
    " # Create a Python program that manages a simple contact book using a dictionary. The\n",
    " # program should allow the user to:\n",
    " # a) Add new contacts (name and phone number).\n",
    " # b) Search for a contact by name.\n",
    " # c) Display all contacts in alphabetical order."
   ]
  },
  {
   "cell_type": "code",
   "execution_count": 4,
   "id": "51825475-b7d6-4555-abaa-72e827bf6544",
   "metadata": {},
   "outputs": [
    {
     "name": "stdin",
     "output_type": "stream",
     "text": [
      "HOW MANY CONTACTS DO YOU WANT TO SAVE IN YOUR NOTE BOOK:  1\n"
     ]
    },
    {
     "name": "stdout",
     "output_type": "stream",
     "text": [
      "\n",
      "Entering contact 1 :\n"
     ]
    },
    {
     "name": "stdin",
     "output_type": "stream",
     "text": [
      "Enter your first name:  ezedin \n",
      "Enter your phone number:  0364484087\n"
     ]
    },
    {
     "name": "stdout",
     "output_type": "stream",
     "text": [
      "\n",
      "Contact Book:\n",
      "NAME :-  ezedin \n",
      "PHONE_NUMBER  :-  364484087\n"
     ]
    }
   ],
   "source": [
    "# create an empty list to store the input contact\n",
    "contact_book = []\n",
    "# ask user how many contacts do want to save in their contact book\n",
    "ask = int(input(\"HOW MANY CONTACTS DO YOU WANT TO SAVE IN YOUR NOTE BOOK: \"))\n",
    "for i in range(ask):\n",
    "    print(f\"\\nEntering contact {i + 1} :\")\n",
    "    contact = {\n",
    "        \"name :- \".upper(): input(\"Enter your first name: \"),\n",
    "        \"phone_number  :- \".upper(): int(input(\"Enter your phone number: \"))\n",
    "    }\n",
    "    contact_book.append(contact)\n",
    "# display the inputed contacts\n",
    "print(\"\\nContact Book:\")    \n",
    "for contact in contact_book:\n",
    "    for x,y in contact.items():\n",
    "        print(x,y)"
   ]
  },
  {
   "cell_type": "code",
   "execution_count": 6,
   "id": "24c56e7b-4c15-4a71-bc35-dcf733cc7c8c",
   "metadata": {},
   "outputs": [
    {
     "name": "stdin",
     "output_type": "stream",
     "text": [
      "\n",
      "Enter the name you want to search for:  ezedin\n"
     ]
    },
    {
     "name": "stdout",
     "output_type": "stream",
     "text": [
      " ezedin, Phone Number: 964484087\n"
     ]
    }
   ],
   "source": [
    "# Search for a contact by name\n",
    "# ask the user to Enter the name you want to search\n",
    "search = input(\"\\nEnter the name you want to search for: \")\n",
    "for contact in contact_book:\n",
    "    # in this the use of (.casefold) to do the words case insensetive.\n",
    "    if search.casefold() == contact[\"name\"].casefold():  \n",
    "        print(f\" {contact['name']}, Phone Number: {contact['phone_number']}\")\n",
    "        break\n",
    "else:    \n",
    "    print(\"Contact not found.\")"
   ]
  },
  {
   "cell_type": "code",
   "execution_count": 7,
   "id": "c5da35e2-0841-4757-a264-3e83224ba1db",
   "metadata": {},
   "outputs": [
    {
     "name": "stdout",
     "output_type": "stream",
     "text": [
      "\n",
      "Contacts that you save in your contact book.:\n",
      "Name: abdellah, Phone Number: 932354505\n",
      "Name: ezedin, Phone Number: 964484087\n"
     ]
    }
   ],
   "source": [
    "# create the function that sort the contacts by alphabetical arrengement\n",
    "def get_name(contact):\n",
    "    # doing case insensetive \n",
    "    return contact[\"name\"].casefold()\n",
    "# sorting \n",
    "contact_book.sort(key=get_name)\n",
    "# displaying the sorted contact list.\n",
    "print(\"\\nContacts that you save in your contact book.:\")\n",
    "for contact in contact_book:\n",
    "    print(f\"Name: {contact['name']}, Phone Number: {contact['phone_number']}\")\n"
   ]
  }
 ],
 "metadata": {
  "kernelspec": {
   "display_name": "Python 3 (ipykernel)",
   "language": "python",
   "name": "python3"
  },
  "language_info": {
   "codemirror_mode": {
    "name": "ipython",
    "version": 3
   },
   "file_extension": ".py",
   "mimetype": "text/x-python",
   "name": "python",
   "nbconvert_exporter": "python",
   "pygments_lexer": "ipython3",
   "version": "3.12.4"
  }
 },
 "nbformat": 4,
 "nbformat_minor": 5
}
