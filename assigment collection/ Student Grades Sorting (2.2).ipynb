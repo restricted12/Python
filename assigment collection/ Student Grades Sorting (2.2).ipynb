{
 "cells": [
  {
   "cell_type": "code",
   "execution_count": 1,
   "id": "5573c1ca-a3a2-4c44-9401-428fc8c47a9b",
   "metadata": {},
   "outputs": [],
   "source": [
    "# Task 2.2: Student Grades Sorting \n",
    "#  Write a Python script to:\n",
    "#  a) Create a list of tuples, where each tuple contains a student’s name and their grade.\n",
    "#  b) Sort the list of students by grade in descending order.\n",
    "#  c) Print the sorted list"
   ]
  },
  {
   "cell_type": "code",
   "execution_count": 1,
   "id": "532df6e5-3c6d-412f-8508-9e5bf39ec428",
   "metadata": {},
   "outputs": [
    {
     "name": "stdout",
     "output_type": "stream",
     "text": [
      "Name: ALEX     GRADE: 58.32\n",
      "Name: THOMAS   GRADE: 66.8\n",
      "Name: EZEDIN   GRADE: 96\n",
      "Name: MUHAMMED GRADE: 85.6\n"
     ]
    }
   ],
   "source": [
    "# Creating a list of tuples\n",
    "student_grade = [\n",
    "    (\"alex    \".upper(), 58.32),\n",
    "    (\"thomas  \".upper(), 66.8),\n",
    "    (\"ezedin  \".upper(), 96),\n",
    "    (\"muhammed\".upper(), 85.6)\n",
    "]\n",
    "\n",
    "# Displaying the list of tuples\n",
    "for x in student_grade:\n",
    "    print(f\"Name: {x[0]} GRADE: {x[1]}\")"
   ]
  },
  {
   "cell_type": "code",
   "execution_count": 4,
   "id": "a760df53-29a1-4d6a-ba4b-0709d7fffd3d",
   "metadata": {},
   "outputs": [
    {
     "name": "stdout",
     "output_type": "stream",
     "text": [
      "Name: EZEDIN  , Grade: 96\n",
      "Name: MUHAMMED, Grade: 85.6\n",
      "Name: THOMAS  , Grade: 66.8\n",
      "Name: ALEX    , Grade: 58.32\n"
     ]
    }
   ],
   "source": [
    "def get_grade(student):\n",
    "    return student[1]\n",
    "\n",
    "# Sorting the list of tuples by the second element (grades) in reverse order (highest first),that is why i use reverse=true\n",
    "student_grade.sort(key=get_grade, reverse=True)\n",
    "\n",
    "for student in student_grade:\n",
    "    print(f\"Name: {student[0]}, Grade: {student[1]}\")"
   ]
  }
 ],
 "metadata": {
  "kernelspec": {
   "display_name": "Python 3 (ipykernel)",
   "language": "python",
   "name": "python3"
  },
  "language_info": {
   "codemirror_mode": {
    "name": "ipython",
    "version": 3
   },
   "file_extension": ".py",
   "mimetype": "text/x-python",
   "name": "python",
   "nbconvert_exporter": "python",
   "pygments_lexer": "ipython3",
   "version": "3.12.4"
  }
 },
 "nbformat": 4,
 "nbformat_minor": 5
}
