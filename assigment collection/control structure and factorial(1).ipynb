{
 "cells": [
  {
   "cell_type": "code",
   "execution_count": 5,
   "id": "63943b0f-9a82-4eba-872f-7d51234cd81f",
   "metadata": {},
   "outputs": [],
   "source": [
    "# Task 1.1: Palindrome Check \n",
    "#  Write a Python program that:\n",
    "#  a) Asks the user to input a string.\n",
    "#  b) Checks if the string is a palindrome (a word, phrase, or sequence that reads the\n",
    "#  same backward as forward, e.g., “madam”).\n",
    "#  c) Displays an appropriate message to indicate whether the string is a palindrome"
   ]
  },
  {
   "cell_type": "code",
   "execution_count": 3,
   "id": "cd4d5bbc-2294-40c1-a38a-77c3fbe28a9e",
   "metadata": {},
   "outputs": [
    {
     "name": "stdin",
     "output_type": "stream",
     "text": [
      "Enter what you want to check:  civic\n"
     ]
    },
    {
     "name": "stdout",
     "output_type": "stream",
     "text": [
      "The input 'civic' is a palindrome.\n"
     ]
    }
   ],
   "source": [
    "while True:\n",
    "    # Ask the user to input a string\n",
    "    user_input = input(\"Enter what you want to check: \")\n",
    "\n",
    "    # Check if the input contains only alphabetic characters and spaces\n",
    "    if user_input.replace(\" \", \"\").isalpha():\n",
    "        # Remove spaces and convert to lowercase for case insensitivity\n",
    "        palindrome = user_input.replace(\" \", \"\").lower()\n",
    "\n",
    "        # Check if the string is a palindrome\n",
    "        if palindrome == palindrome[::-1]:\n",
    "            print(f\"The input '{user_input}' is a palindrome.\")\n",
    "        else:\n",
    "            print(f\"The input '{user_input}' isn't a palindrome.\")\n",
    "        break  # Exit the loop if the input is valid\n",
    "    else:\n",
    "        print(\"Invalid input. Please enter only words.\")\n"
   ]
  },
  {
   "cell_type": "code",
   "execution_count": 3,
   "id": "f5792fba-edf2-4f1d-858a-c2382084b4c3",
   "metadata": {},
   "outputs": [],
   "source": [
    "#  Task 1.2: Factorial Calculation Using Recursion \n",
    " # Write a Python function that calculates the factorial of a given number using recursion.\n",
    " # Provide an example of how the function works by calculating the factorial of 5."
   ]
  },
  {
   "cell_type": "code",
   "execution_count": 6,
   "id": "a53a917f-e752-4766-b3ee-ecf723ffd946",
   "metadata": {},
   "outputs": [
    {
     "name": "stdin",
     "output_type": "stream",
     "text": [
      "ENTER THE NUMBER:  5\n"
     ]
    },
    {
     "name": "stdout",
     "output_type": "stream",
     "text": [
      "The factorial of 5 is 120\n"
     ]
    }
   ],
   "source": [
    "def fac(num):\n",
    "    if num == 1 or num == 0:\n",
    "        return 1\n",
    "    else:\n",
    "        return num * fac(num - 1)\n",
    "\n",
    "# Get input from the user and convert it to an integer\n",
    "num = int(input(\"Enter the number: \".upper()))\n",
    "\n",
    "# Print the factorial result\n",
    "print(f\"The factorial of {num} is {fac(num)}\")\n"
   ]
  },
  {
   "cell_type": "code",
   "execution_count": null,
   "id": "5fc9576c-18ee-4e19-a7d7-ae098d2841da",
   "metadata": {},
   "outputs": [],
   "source": []
  }
 ],
 "metadata": {
  "kernelspec": {
   "display_name": "Python 3 (ipykernel)",
   "language": "python",
   "name": "python3"
  },
  "language_info": {
   "codemirror_mode": {
    "name": "ipython",
    "version": 3
   },
   "file_extension": ".py",
   "mimetype": "text/x-python",
   "name": "python",
   "nbconvert_exporter": "python",
   "pygments_lexer": "ipython3",
   "version": "3.12.4"
  }
 },
 "nbformat": 4,
 "nbformat_minor": 5
}
